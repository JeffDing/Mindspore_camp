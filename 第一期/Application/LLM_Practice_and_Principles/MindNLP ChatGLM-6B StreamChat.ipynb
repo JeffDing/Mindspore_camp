{
 "cells": [
  {
   "cell_type": "markdown",
   "id": "c014a89a-05f5-446a-bc53-dd048c6c4997",
   "metadata": {},
   "source": [
    "## MindNLP ChatGLM-6B StreamChat\n",
    "\n",
    "本案例基于MindNLP和ChatGLM-6B实现一个聊天应用。"
   ]
  },
  {
   "cell_type": "markdown",
   "id": "9a579a34-88f2-4fe3-94f1-88a6597a4a13",
   "metadata": {},
   "source": [
    "### 1 环境配置"
   ]
  },
  {
   "cell_type": "code",
   "execution_count": null,
   "id": "da7eb9b265ae7444",
   "metadata": {},
   "outputs": [],
   "source": [
    "%%capture captured_output\n",
    "# 实验环境已经预装了mindspore==2.2.14，如需更换mindspore版本，可更改下面mindspore的版本号\n",
    "!pip uninstall mindspore -y\n",
    "!pip install -i https://pypi.mirrors.ustc.edu.cn/simple mindspore==2.2.14"
   ]
  },
  {
   "cell_type": "markdown",
   "id": "8d02075d-62bf-4466-a5b2-039317d1a233",
   "metadata": {},
   "source": [
    "配置网络线路"
   ]
  },
  {
   "cell_type": "code",
   "execution_count": null,
   "id": "9123d70f",
   "metadata": {
    "tags": []
   },
   "outputs": [],
   "source": [
    "!export HF_ENDPOINT=https://hf-mirror.com"
   ]
  },
  {
   "cell_type": "markdown",
   "id": "f6703d3e-8451-47e7-bac8-401cdb039be7",
   "metadata": {},
   "source": [
    "### 2 代码开发\n",
    "下载权重大约需要10分钟"
   ]
  },
  {
   "cell_type": "code",
   "execution_count": null,
   "id": "9b8ee640",
   "metadata": {
    "tags": []
   },
   "outputs": [],
   "source": [
    "from mindnlp.transformers import AutoModelForSeq2SeqLM, AutoTokenizer\n",
    "import gradio as gr\n",
    "import mdtex2html\n",
    "\n",
    "model = AutoModelForSeq2SeqLM.from_pretrained('ZhipuAI/ChatGLM-6B', mirror=\"modelscope\").half()\n",
    "model.set_train(False)\n",
    "tokenizer = AutoTokenizer.from_pretrained('ZhipuAI/ChatGLM-6B', mirror=\"modelscope\")"
   ]
  },
  {
   "cell_type": "markdown",
   "id": "5a36daf3-cc15-4547-b057-b62d4a405282",
   "metadata": {
    "tags": []
   },
   "source": [
    "可以修改下列参数和prompt体验模型"
   ]
  },
  {
   "cell_type": "code",
   "execution_count": null,
   "id": "95fc7ad5-b210-4318-8897-af50b8e6ebd4",
   "metadata": {
    "tags": []
   },
   "outputs": [],
   "source": [
    "prompt = '你好'\n",
    "history = []\n",
    "response, _ = model.chat(tokenizer, prompt, history=history, max_length=20)\n",
    "response"
   ]
  }
 ],
 "metadata": {
  "AIGalleryInfo": {
   "item_id": "cdc88c83-1ac2-4862-b822-3ab200b01736"
  },
  "flavorInfo": {
   "architecture": "X86_64",
   "category": "GPU"
  },
  "imageInfo": {
   "id": "e1a07296-22a8-4f05-8bc8-e936c8e54202",
   "name": "mindspore1.7.0-cuda10.1-py3.7-ubuntu18.04"
  },
  "kernelspec": {
   "display_name": "Conda-python3",
   "language": "python",
   "name": "conda-python3"
  },
  "language_info": {
   "codemirror_mode": {
    "name": "ipython",
    "version": 3
   },
   "file_extension": ".py",
   "mimetype": "text/x-python",
   "name": "python",
   "nbconvert_exporter": "python",
   "pygments_lexer": "ipython3",
   "version": "3.6.4"
  }
 },
 "nbformat": 4,
 "nbformat_minor": 5
}
