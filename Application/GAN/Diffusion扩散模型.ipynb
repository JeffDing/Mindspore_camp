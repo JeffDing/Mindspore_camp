{
 "cells": [
  {
   "cell_type": "markdown",
   "metadata": {
    "pycharm": {
     "name": "#%% md\n"
    }
   },
   "source": [
    "\n",
    "# Diffusion扩散模型\n"
   ]
  },
  {
   "cell_type": "markdown",
   "metadata": {},
   "source": [
    "本文基于[Hugging Face：The Annotated Diffusion Model](https://huggingface.co/blog/annotated-diffusion)一文翻译迁移而来，同时参考了[由浅入深了解Diffusion Model](https://zhuanlan.zhihu.com/p/525106459)一文。\n",
    "\n",
    "> 本教程在Jupyter Notebook上成功运行。如您下载本文档为Python文件，执行Python文件时，请确保执行环境安装了GUI界面。"
   ]
  },
  {
   "cell_type": "markdown",
   "metadata": {
    "pycharm": {
     "name": "#%% md\n"
    }
   },
   "source": [
    "关于扩散模型（Diffusion Models）有很多种理解，本文的介绍是基于denoising diffusion probabilistic model （DDPM），DDPM已经在（无）条件图像/音频/视频生成领域取得了较多显著的成果，现有的比较受欢迎的的例子包括由OpenAI主导的[GLIDE](https://arxiv.org/abs/2112.10741)和[DALL-E 2](https://openai.com/dall-e-2/)、由海德堡大学主导的[潜在扩散](https://github.com/CompVis/latent-diffusion)和由Google Brain主导的[图像生成](https://imagen.research.google/)。\n",
    "\n",
    "实际上生成模型的扩散概念已经在（[Sohl-Dickstein et al., 2015](https://arxiv.org/abs/1503.03585)）中介绍过。然而，直到（[Song et al., 2019](https://arxiv.org/abs/1907.05600)）（斯坦福大学）和（[Ho et al., 2020](https://arxiv.org/abs/2006.11239)）（在Google Brain）才各自独立地改进了这种方法。\n",
    "\n",
    "本文是在Phil Wang[基于PyTorch框架的复现](https://github.com/lucidrains/denoising-diffusion-pytorch)的基础上（而它本身又是基于[TensorFlow实现](https://github.com/hojonathanho/diffusion)），迁移到MindSpore AI框架上实现的。\n",
    "\n",
    "![Image-1](pic/diffusion_1.png)\n",
    "\n",
    "实验中我们采用离散时间（潜在变量模型）的观点，另外，读者也可以查看有关于扩散模型的其他[几个观点](https://twitter.com/sedielem/status/1530894256168222722?s=20&t=mfv4afx1GcNQU5fZklpACw)！"
   ]
  },
  {
   "cell_type": "markdown",
   "metadata": {},
   "source": [
    "实验开始之前请确保安装并导入所需的库（假设您已经安装了[MindSpore](https://mindspore.cn/install)、download、dataset、matplotlib以及tqdm）。"
   ]
  },
  {
   "cell_type": "code",
   "execution_count": null,
   "metadata": {},
   "outputs": [],
   "source": [
    "%%capture captured_output\n",
    "# 实验环境已经预装了mindspore==2.2.14，如需更换mindspore版本，可更改下面mindspore的版本号\n",
    "!pip uninstall mindspore -y\n",
    "!pip install -i https://pypi.mirrors.ustc.edu.cn/simple mindspore==2.2.14"
   ]
  },
  {
   "cell_type": "code",
   "execution_count": null,
   "metadata": {},
   "outputs": [],
   "source": [
    "# 查看当前 mindspore 版本\n",
    "!pip show mindspore"
   ]
  },
  {
   "cell_type": "code",
   "execution_count": null,
   "metadata": {
    "pycharm": {
     "name": "#%%\n"
    }
   },
   "outputs": [],
   "source": [
    "import math\n",
    "from functools import partial\n",
    "%matplotlib inline\n",
    "import matplotlib.pyplot as plt\n",
    "from tqdm.auto import tqdm\n",
    "import numpy as np\n",
    "from multiprocessing import cpu_count\n",
    "from download import download\n",
    "\n",
    "import mindspore as ms\n",
    "import mindspore.nn as nn\n",
    "import mindspore.ops as ops\n",
    "from mindspore import Tensor, Parameter\n",
    "from mindspore import dtype as mstype\n",
    "from mindspore.dataset.vision import Resize, Inter, CenterCrop, ToTensor, RandomHorizontalFlip, ToPIL\n",
    "from mindspore.common.initializer import initializer\n",
    "from mindspore.amp import DynamicLossScaler\n",
    "\n",
    "ms.set_seed(0)"
   ]
  },
  {
   "cell_type": "markdown",
   "metadata": {
    "pycharm": {
     "name": "#%% md\n"
    }
   },
   "source": [
    "## 模型简介\n"
   ]
  },
  {
   "cell_type": "markdown",
   "metadata": {
    "pycharm": {
     "name": "#%% md\n"
    }
   },
   "source": [
    "### 什么是Diffusion Model？\n",
    "\n",
    "如果将Diffusion与其他生成模型（如Normalizing Flows、GAN或VAE）进行比较，它并没有那么复杂，它们都将噪声从一些简单分布转换为数据样本，Diffusion也是从纯噪声开始通过一个神经网络学习逐步去噪，最终得到一个实际图像。\n",
    "Diffusion对于图像的处理包括以下两个过程：\n",
    "\n",
    "- 我们选择的固定（或预定义）正向扩散过程 $q$ ：它逐渐将高斯噪声添加到图像中，直到最终得到纯噪声\n",
    "\n",
    "- 一个学习的反向去噪的扩散过程 $p_\\theta$ ：通过训练神经网络从纯噪声开始逐渐对图像去噪，直到最终得到一个实际的图像\n",
    "\n",
    "![Image-2](pic/diffusion_2.png)\n",
    "\n",
    "由 $t$ 索引的正向和反向过程都发生在某些有限时间步长 $T$（DDPM作者使用 $T=1000$）内。从$t=0$开始，在数据分布中采样真实图像 $\\mathbf{x}_0$（本文使用一张来自ImageNet的猫图像形象的展示了diffusion正向添加噪声的过程），正向过程在每个时间步长 $t$ 都从高斯分布中采样一些噪声，再添加到上一个时刻的图像中。假定给定一个足够大的 $T$ 和一个在每个时间步长添加噪声的良好时间表，您最终会在 $t=T$ 通过渐进的过程得到所谓的[各向同性的高斯分布](https://math.stackexchange.com/questions/1991961/gaussian-distribution-is-isotropic)。"
   ]
  },
  {
   "cell_type": "markdown",
   "metadata": {
    "pycharm": {
     "name": "#%% md\n"
    }
   },
   "source": [
    "### 扩散模型实现原理\n"
   ]
  },
  {
   "cell_type": "markdown",
   "metadata": {
    "pycharm": {
     "name": "#%% md\n"
    }
   },
   "source": [
    "#### Diffusion 前向过程\n",
    "\n",
    "所谓前向过程，即向图片上加噪声的过程。虽然这个步骤无法做到图片生成，但这是理解diffusion model以及构建训练样本至关重要的一步。\n",
    "首先我们需要一个可控的损失函数，并运用神经网络对其进行优化。\n",
    "\n",
    "设 $q(x_0)$ 是真实数据分布，由于 $x_0 \\sim q(x_0)$ ，所以我们可以从这个分布中采样以获得图像 $x_0$ 。接下来我们定义前向扩散过程 $q(x_t | x_{t-1})$ ，在前向过程中我们会根据已知的方差 ${0}<\\beta_{1}<\\beta_{2}< ... <\\beta_{T}<{1}$ 在每个时间步长 t 添加高斯噪声，由于前向过程的每个时刻 t 只与时刻 t-1 有关，所以也可以看做马尔科夫过程：\n",
    "\n",
    "$$\n",
    "q(\\mathbf{x}_t | \\mathbf{x}_{t-1}) = \\mathcal{N}(\\mathbf{x}_t; \\sqrt{1 - \\beta_t} \\mathbf{x}_{t-1}, \\beta_t \\mathbf{I})\n",
    "$$\n",
    "\n",
    "回想一下，正态分布（也称为高斯分布）由两个参数定义：平均值 $\\mu$ 和方差 $\\sigma^2 \\geq 0$ 。基本上，在每个时间步长 $t$ 处的产生的每个新的（轻微噪声）图像都是从条件高斯分布中绘制的，其中\n",
    "\n",
    "$$\n",
    "q(\\mathbf{\\mu}_t) = \\sqrt{1 - \\beta_t} \\mathbf{x}_{t-1}\n",
    "$$\n",
    "\n",
    "我们可以通过采样 $\\mathbf{\\epsilon} \\sim \\mathcal{N}(\\mathbf{0}, \\mathbf{I})$ 然后设置\n",
    "\n",
    "$$\n",
    "q(\\mathbf{x}_t) = \\sqrt{1 - \\beta_t} \\mathbf{x}_{t-1} +  \\sqrt{\\beta_t} \\mathbf{\\epsilon}\n",
    "$$\n",
    "\n",
    "请注意， $\\beta_t$ 在每个时间步长 $t$ （因此是下标）不是恒定的：事实上，我们定义了一个所谓的“动态方差”的方法，使得每个时间步长的 $\\beta_t$ 可以是线性的、二次的、余弦的等（有点像动态学习率方法）。\n",
    "\n",
    "因此，如果我们适当设置时间表，从 $\\mathbf{x}_0$ 开始，我们最终得到 $\\mathbf{x}_1,  ..., \\mathbf{x}_t, ..., \\mathbf{x}_T$，即随着 $t$ 的增大 $\\mathbf{x}_t$ 会越来越接近纯噪声，而 $\\mathbf{x}_T$ 就是纯高斯噪声。\n",
    "\n",
    "那么，如果我们知道条件概率分布 $p(\\mathbf{x}_{t-1} | \\mathbf{x}_t)$ ，我们就可以反向运行这个过程：通过采样一些随机高斯噪声 $\\mathbf{x}_T$，然后逐渐去噪它，最终得到真实分布 $\\mathbf{x}_0$ 中的样本。但是，我们不知道条件概率分布 $p(\\mathbf{x}_{t-1} | \\mathbf{x}_t)$ 。这很棘手，因为需要知道所有可能图像的分布，才能计算这个条件概率。\n"
   ]
  },
  {
   "cell_type": "markdown",
   "metadata": {},
   "source": [
    "#### Diffusion 逆向过程\n",
    "\n",
    "为了解决上述问题，我们将利用神经网络来近似（学习）这个条件概率分布 $p_\\theta (\\mathbf{x}_{t-1} | \\mathbf{x}_t)$ , 其中 $\\theta$ 是神经网络的参数。如果说前向过程(forward)是加噪的过程，那么逆向过程(reverse)就是diffusion的去噪推断过程，而通过神经网络学习并表示 $p_\\theta (\\mathbf{x}_{t-1} | \\mathbf{x}_t)$ 的过程就是Diffusion 逆向去噪的核心。\n",
    "\n",
    "现在，我们知道了需要一个神经网络来学习逆向过程的（条件）概率分布。我们假设这个反向过程也是高斯的，任何高斯分布都由2个参数定义：\n",
    "\n",
    "- 由 $\\mu_\\theta$ 参数化的平均值\n",
    "\n",
    "- 由 $\\mu_\\theta$ 参数化的方差\n",
    "\n",
    "综上，我们可以将逆向过程公式化为\n",
    "\n",
    "$$\n",
    "p_\\theta (\\mathbf{x}_{t-1} | \\mathbf{x}_t) = \\mathcal{N}(\\mathbf{x}_{t-1};\\mu_\\theta(\\mathbf{x}_{t},t), \\Sigma_\\theta (\\mathbf{x}_{t},t))\n",
    "$$\n",
    "\n",
    "其中平均值和方差也取决于噪声水平 $t$ ，神经网络需要通过学习来表示这些均值和方差。\n",
    "\n",
    "- 注意，DDPM的作者决定保持方差固定，让神经网络只学习（表示）这个条件概率分布的平均值 $\\mu_\\theta$ 。\n",
    "\n",
    "- 本文我们同样假设神经网络只需要学习（表示）这个条件概率分布的平均值 $\\mu_\\theta$ 。"
   ]
  },
  {
   "cell_type": "markdown",
   "metadata": {
    "pycharm": {
     "name": "#%% md\n"
    }
   },
   "source": [
    "为了导出一个目标函数来学习反向过程的平均值，作者观察到 $q$ 和 $p_\\theta$ 的组合可以被视为变分自动编码器(VAE)。因此，变分下界（也称为ELBO）可用于最小化真值数据样本 $\\mathbf{x}_0$ 的似然负对数（有关ELBO的详细信息，请参阅VAE论文[（Kingma等人，2013年）](https://arxiv.org/abs/1312.6114)），该过程的ELBO是每个时间步长的损失之和 $L=L_0+L_1+...+L_T$ ，其中，每项的损失 $L_t$ （除了 $L_0$ ）实际上是2个高斯分布之间的KL发散，可以明确地写为相对于均值的L2-loss!\n",
    "\n",
    "如Sohl-Dickstein等人所示，构建Diffusion正向过程的直接结果是我们可以在条件是 $\\mathbf{x}_0$ （因为高斯和也是高斯）的情况下，在任意噪声水平上采样 $\\mathbf{x}_t$ ，而不需要重复应用 $q$ 去采样 $\\mathbf{x}_t$ ，这非常方便。使用\n",
    "\n",
    "$$\n",
    "\\\\\\alpha_t := 1 - \\beta_t\\\\\\\\\\bar{\\alpha}t := \\Pi_{s=1}^{t} \\alpha_s\\\\\n",
    "$$\n",
    "\n",
    "我们就有\n",
    "\n",
    "$$  \n",
    "q(\\mathbf{x}_t | \\mathbf{x}_0) = \\cal{N}(\\mathbf{x}_t; \\sqrt{\\bar{\\alpha}_t} \\mathbf{x}_0, (1- \\bar{\\alpha}_t) \\mathbf{I})\n",
    "$$\n",
    "\n",
    "这意味着我们可以采样高斯噪声并适当地缩放它，然后将其添加到 $\\mathbf{x}_0$ 中，直接获得 $\\mathbf{x}_t$ 。\n",
    "\n",
    "请注意，$\\bar{\\alpha}_t$ 是已知 $\\beta_t$ 方差计划的函数，因此也是已知的，可以预先计算。这允许我们在训练期间优化损失函数 $L$ 的随机项。或者换句话说，在训练期间随机采样 $t$ 并优化 $L_t$ 。"
   ]
  },
  {
   "cell_type": "markdown",
   "metadata": {},
   "source": [
    "正如Ho等人所展示的那样，这种性质的另一个优点是可以重新参数化平均值，使神经网络学习（预测）构成损失的KL项中噪声的附加噪声。这意味着我们的神经网络变成了噪声预测器，而不是（直接）均值预测器。其中，平均值可以按如下方式计算：\n",
    "\n",
    "$$ \\mathbf{\\mu}_\\theta(\\mathbf{x}_t, t) = \\frac{1}{\\sqrt{\\alpha_t}} \\left(  \\mathbf{x}_t - \\frac{\\beta_t}{\\sqrt{1- \\bar{\\alpha}_t}} \\mathbf{\\epsilon}_\\theta(\\mathbf{x}_t, t) \\right) $$\n",
    "\n",
    "最终的目标函数 ${L}_{t}$ 如下 （随机步长 t 由 $({\\epsilon} \\sim N(\\mathbf{0}, \\mathbf{I}))$ 给定）：\n",
    "\n",
    "$$ \\| \\mathbf{\\epsilon} - \\mathbf{\\epsilon}_\\theta(\\mathbf{x}_t, t) \\|^2 = \\| \\mathbf{\\epsilon} - \\mathbf{\\epsilon}_\\theta( \\sqrt{\\bar{\\alpha}_t} \\mathbf{x}_0 + \\sqrt{(1- \\bar{\\alpha}_t)  } \\mathbf{\\epsilon}, t) \\|^2$$"
   ]
  },
  {
   "cell_type": "markdown",
   "metadata": {
    "pycharm": {
     "name": "#%% md\n"
    }
   },
   "source": [
    "在这里， $\\mathbf{x}_0$ 是初始（真实，未损坏）图像， $\\mathbf{\\epsilon}$ 是在时间步长 $t$ 采样的纯噪声，$\\mathbf{\\epsilon}_\\theta (\\mathbf{x}_t, t)$是我们的神经网络。神经网络是基于真实噪声和预测高斯噪声之间的简单均方误差（MSE）进行优化的。\n",
    "\n",
    "训练算法现在如下所示：\n",
    "\n",
    "![Image-3](pic/diffusion_3.png)\n",
    "\n",
    "换句话说：\n",
    "\n",
    "- 我们从真实未知和可能复杂的数据分布中随机抽取一个样本 $q(\\mathbf{x}_0)$\n",
    "\n",
    "- 我们均匀地采样$1$和$T$之间的噪声水平$t$（即，随机时间步长）\n",
    "\n",
    "- 我们从高斯分布中采样一些噪声，并使用上面定义的属性在 $t$ 时间步上破坏输入\n",
    "\n",
    "- 神经网络被训练以基于损坏的图像 $\\mathbf{x}_t$ 来预测这种噪声，即基于已知的时间表 $\\mathbf{x}_t$ 上施加的噪声\n",
    "\n",
    "实际上，所有这些都是在批数据上使用随机梯度下降来优化神经网络完成的。\n",
    "\n",
    "#### U-Net神经网络预测噪声\n",
    "\n",
    "神经网络需要在特定时间步长接收带噪声的图像，并返回预测的噪声。请注意，预测噪声是与输入图像具有相同大小/分辨率的张量。因此，从技术上讲，网络接受并输出相同形状的张量。那么我们可以用什么类型的神经网络来实现呢？\n",
    "\n",
    "这里通常使用的是非常相似的[自动编码器](https://en.wikipedia.org/wiki/Autoencoder)，您可能还记得典型的\"深度学习入门\"教程。自动编码器在编码器和解码器之间有一个所谓的\"bottleneck\"层。编码器首先将图像编码为一个称为\"bottleneck\"的较小的隐藏表示，然后解码器将该隐藏表示解码回实际图像。这迫使网络只保留bottleneck层中最重要的信息。\n",
    "\n",
    "在模型结构方面，DDPM的作者选择了U-Net，出自（[Ronneberger et al.，2015](https://arxiv.org/abs/1505.04597)）（当时，它在医学图像分割方面取得了最先进的结果）。这个网络就像任何自动编码器一样，在中间由一个bottleneck组成，确保网络只学习最重要的信息。重要的是，它在编码器和解码器之间引入了残差连接，极大地改善了梯度流（灵感来自于（[He et al., 2015](https://arxiv.org/abs/1512.03385)））。\n",
    "\n",
    "![Image-4](pic/diffusion_4.jpg)\n",
    "\n",
    "可以看出，U-Net模型首先对输入进行下采样（即，在空间分辨率方面使输入更小），之后执行上采样。"
   ]
  },
  {
   "cell_type": "markdown",
   "metadata": {
    "pycharm": {
     "name": "#%% md\n"
    }
   },
   "source": [
    "## 构建Diffusion模型\n",
    "\n",
    "下面，我们逐步构建Diffusion模型。\n",
    "\n",
    "首先，我们定义了一些帮助函数和类，这些函数和类将在实现神经网络时使用。"
   ]
  },
  {
   "cell_type": "code",
   "execution_count": null,
   "metadata": {
    "pycharm": {
     "name": "#%%\n"
    }
   },
   "outputs": [],
   "source": [
    "def rearrange(head, inputs):\n",
    "    b, hc, x, y = inputs.shape\n",
    "    c = hc // head\n",
    "    return inputs.reshape((b, head, c, x * y))\n",
    "\n",
    "def rsqrt(x):\n",
    "    res = ops.sqrt(x)\n",
    "    return ops.inv(res)\n",
    "\n",
    "def randn_like(x, dtype=None):\n",
    "    if dtype is None:\n",
    "        dtype = x.dtype\n",
    "    res = ops.standard_normal(x.shape).astype(dtype)\n",
    "    return res\n",
    "\n",
    "def randn(shape, dtype=None):\n",
    "    if dtype is None:\n",
    "        dtype = ms.float32\n",
    "    res = ops.standard_normal(shape).astype(dtype)\n",
    "    return res\n",
    "\n",
    "def randint(low, high, size, dtype=ms.int32):\n",
    "    res = ops.uniform(size, Tensor(low, dtype), Tensor(high, dtype), dtype=dtype)\n",
    "    return res\n",
    "\n",
    "def exists(x):\n",
    "    return x is not None\n",
    "\n",
    "def default(val, d):\n",
    "    if exists(val):\n",
    "        return val\n",
    "    return d() if callable(d) else d\n",
    "\n",
    "def _check_dtype(d1, d2):\n",
    "    if ms.float32 in (d1, d2):\n",
    "        return ms.float32\n",
    "    if d1 == d2:\n",
    "        return d1\n",
    "    raise ValueError('dtype is not supported.')\n",
    "\n",
    "class Residual(nn.Cell):\n",
    "    def __init__(self, fn):\n",
    "        super().__init__()\n",
    "        self.fn = fn\n",
    "\n",
    "    def construct(self, x, *args, **kwargs):\n",
    "        return self.fn(x, *args, **kwargs) + x"
   ]
  },
  {
   "cell_type": "markdown",
   "metadata": {
    "pycharm": {
     "name": "#%% md\n"
    }
   },
   "source": [
    "我们还定义了上采样和下采样操作的别名。"
   ]
  },
  {
   "cell_type": "code",
   "execution_count": null,
   "metadata": {
    "pycharm": {
     "name": "#%%\n"
    }
   },
   "outputs": [],
   "source": [
    "def Upsample(dim):\n",
    "    return nn.Conv2dTranspose(dim, dim, 4, 2, pad_mode=\"pad\", padding=1)\n",
    "\n",
    "def Downsample(dim):\n",
    "    return nn.Conv2d(dim, dim, 4, 2, pad_mode=\"pad\", padding=1)"
   ]
  },
  {
   "cell_type": "markdown",
   "metadata": {
    "pycharm": {
     "name": "#%% md\n"
    }
   },
   "source": [
    "### 位置向量\n",
    "\n",
    "由于神经网络的参数在时间（噪声水平）上共享，作者使用正弦位置嵌入来编码$t$，灵感来自Transformer（[Vaswani et al., 2017](https://arxiv.org/abs/1706.03762)）。对于批处理中的每一张图像，神经网络\"知道\"它在哪个特定时间步长（噪声水平）上运行。\n",
    "\n",
    "`SinusoidalPositionEmbeddings`模块采用`(batch_size, 1)`形状的张量作为输入（即批处理中几个有噪声图像的噪声水平），并将其转换为`(batch_size, dim)`形状的张量，其中`dim`是位置嵌入的尺寸。然后，我们将其添加到每个剩余块中。"
   ]
  },
  {
   "cell_type": "code",
   "execution_count": null,
   "metadata": {
    "pycharm": {
     "name": "#%%\n"
    }
   },
   "outputs": [],
   "source": [
    "class SinusoidalPositionEmbeddings(nn.Cell):\n",
    "    def __init__(self, dim):\n",
    "        super().__init__()\n",
    "        self.dim = dim\n",
    "        half_dim = self.dim // 2\n",
    "        emb = math.log(10000) / (half_dim - 1)\n",
    "        emb = np.exp(np.arange(half_dim) * - emb)\n",
    "        self.emb = Tensor(emb, ms.float32)\n",
    "\n",
    "    def construct(self, x):\n",
    "        emb = x[:, None] * self.emb[None, :]\n",
    "        emb = ops.concat((ops.sin(emb), ops.cos(emb)), axis=-1)\n",
    "        return emb"
   ]
  },
  {
   "cell_type": "markdown",
   "metadata": {
    "pycharm": {
     "name": "#%% md\n"
    }
   },
   "source": [
    "### ResNet/ConvNeXT块\n",
    "\n",
    "接下来，我们定义U-Net模型的核心构建块。DDPM作者使用了一个Wide ResNet块（[Zagoruyko et al., 2016](https://arxiv.org/abs/1605.07146)），但Phil Wang决定添加ConvNeXT（[Liu et al., 2022](https://arxiv.org/abs/2201.03545)）替换ResNet，因为后者在图像领域取得了巨大成功。\n",
    "\n",
    "在最终的U-Net架构中，可以选择其中一个或另一个，本文选择ConvNeXT块构建U-Net模型。"
   ]
  },
  {
   "cell_type": "code",
   "execution_count": null,
   "metadata": {
    "pycharm": {
     "name": "#%%\n"
    }
   },
   "outputs": [],
   "source": [
    "class Block(nn.Cell):\n",
    "    def __init__(self, dim, dim_out, groups=1):\n",
    "        super().__init__()\n",
    "        self.proj = nn.Conv2d(dim, dim_out, 3, pad_mode=\"pad\", padding=1)\n",
    "        self.proj = c(dim, dim_out, 3, padding=1, pad_mode='pad')\n",
    "        self.norm = nn.GroupNorm(groups, dim_out)\n",
    "        self.act = nn.SiLU()\n",
    "\n",
    "    def construct(self, x, scale_shift=None):\n",
    "        x = self.proj(x)\n",
    "        x = self.norm(x)\n",
    "\n",
    "        if exists(scale_shift):\n",
    "            scale, shift = scale_shift\n",
    "            x = x * (scale + 1) + shift\n",
    "\n",
    "        x = self.act(x)\n",
    "        return x\n",
    "\n",
    "class ConvNextBlock(nn.Cell):\n",
    "    def __init__(self, dim, dim_out, *, time_emb_dim=None, mult=2, norm=True):\n",
    "        super().__init__()\n",
    "        self.mlp = (\n",
    "            nn.SequentialCell(nn.GELU(), nn.Dense(time_emb_dim, dim))\n",
    "            if exists(time_emb_dim)\n",
    "            else None\n",
    "        )\n",
    "\n",
    "        self.ds_conv = nn.Conv2d(dim, dim, 7, padding=3, group=dim, pad_mode=\"pad\")\n",
    "        self.net = nn.SequentialCell(\n",
    "            nn.GroupNorm(1, dim) if norm else nn.Identity(),\n",
    "            nn.Conv2d(dim, dim_out * mult, 3, padding=1, pad_mode=\"pad\"),\n",
    "            nn.GELU(),\n",
    "            nn.GroupNorm(1, dim_out * mult),\n",
    "            nn.Conv2d(dim_out * mult, dim_out, 3, padding=1, pad_mode=\"pad\"),\n",
    "        )\n",
    "\n",
    "        self.res_conv = nn.Conv2d(dim, dim_out, 1) if dim != dim_out else nn.Identity()\n",
    "\n",
    "    def construct(self, x, time_emb=None):\n",
    "        h = self.ds_conv(x)\n",
    "        if exists(self.mlp) and exists(time_emb):\n",
    "            assert exists(time_emb), \"time embedding must be passed in\"\n",
    "            condition = self.mlp(time_emb)\n",
    "            condition = condition.expand_dims(-1).expand_dims(-1)\n",
    "            h = h + condition\n",
    "\n",
    "        h = self.net(h)\n",
    "        return h + self.res_conv(x)"
   ]
  },
  {
   "cell_type": "markdown",
   "metadata": {
    "pycharm": {
     "name": "#%% md\n"
    }
   },
   "source": [
    "### Attention模块\n",
    "\n",
    "接下来，我们定义Attention模块，DDPM作者将其添加到卷积块之间。Attention是著名的Transformer架构([Vaswani et al., 2017](https://arxiv.org/abs/1706.03762))，在人工智能的各个领域都取得了巨大的成功，从NLP到[蛋白质折叠](https://www.deepmind.com/blog/alphafold-a-solution-to-a-50-year-old-grand-challenge-in-biology)。Phil Wang使用了两种注意力变体：一种是常规的multi-head self-attention（如Transformer中使用的），另一种是[LinearAttention](https://github.com/lucidrains/linear-attention-transformer)([Shen et al., 2018](https://arxiv.org/abs/1812.01243))，其时间和内存要求在序列长度上线性缩放，而不是在常规注意力中缩放。\n",
    "要想对Attention机制进行深入的了解，请参照Jay Allamar的[精彩的博文](https://jalammar.github.io/illustrated-transformer/)。"
   ]
  },
  {
   "cell_type": "code",
   "execution_count": null,
   "metadata": {
    "pycharm": {
     "name": "#%%\n"
    }
   },
   "outputs": [],
   "source": [
    "class Attention(nn.Cell):\n",
    "    def __init__(self, dim, heads=4, dim_head=32):\n",
    "        super().__init__()\n",
    "        self.scale = dim_head ** -0.5\n",
    "        self.heads = heads\n",
    "        hidden_dim = dim_head * heads\n",
    "\n",
    "        self.to_qkv = nn.Conv2d(dim, hidden_dim * 3, 1, pad_mode='valid', has_bias=False)\n",
    "        self.to_out = nn.Conv2d(hidden_dim, dim, 1, pad_mode='valid', has_bias=True)\n",
    "        self.map = ops.Map()\n",
    "        self.partial = ops.Partial()\n",
    "\n",
    "    def construct(self, x):\n",
    "        b, _, h, w = x.shape\n",
    "        qkv = self.to_qkv(x).chunk(3, 1)\n",
    "        q, k, v = self.map(self.partial(rearrange, self.heads), qkv)\n",
    "\n",
    "        q = q * self.scale\n",
    "\n",
    "        # 'b h d i, b h d j -> b h i j'\n",
    "        sim = ops.bmm(q.swapaxes(2, 3), k)\n",
    "        attn = ops.softmax(sim, axis=-1)\n",
    "        # 'b h i j, b h d j -> b h i d'\n",
    "        out = ops.bmm(attn, v.swapaxes(2, 3))\n",
    "        out = out.swapaxes(-1, -2).reshape((b, -1, h, w))\n",
    "\n",
    "        return self.to_out(out)\n",
    "\n",
    "\n",
    "class LayerNorm(nn.Cell):\n",
    "    def __init__(self, dim):\n",
    "        super().__init__()\n",
    "        self.g = Parameter(initializer('ones', (1, dim, 1, 1)), name='g')\n",
    "\n",
    "    def construct(self, x):\n",
    "        eps = 1e-5\n",
    "        var = x.var(1, keepdims=True)\n",
    "        mean = x.mean(1, keep_dims=True)\n",
    "        return (x - mean) * rsqrt((var + eps)) * self.g\n",
    "\n",
    "\n",
    "class LinearAttention(nn.Cell):\n",
    "    def __init__(self, dim, heads=4, dim_head=32):\n",
    "        super().__init__()\n",
    "        self.scale = dim_head ** -0.5\n",
    "        self.heads = heads\n",
    "        hidden_dim = dim_head * heads\n",
    "        self.to_qkv = nn.Conv2d(dim, hidden_dim * 3, 1, pad_mode='valid', has_bias=False)\n",
    "\n",
    "        self.to_out = nn.SequentialCell(\n",
    "            nn.Conv2d(hidden_dim, dim, 1, pad_mode='valid', has_bias=True),\n",
    "            LayerNorm(dim)\n",
    "        )\n",
    "\n",
    "        self.map = ops.Map()\n",
    "        self.partial = ops.Partial()\n",
    "\n",
    "    def construct(self, x):\n",
    "        b, _, h, w = x.shape\n",
    "        qkv = self.to_qkv(x).chunk(3, 1)\n",
    "        q, k, v = self.map(self.partial(rearrange, self.heads), qkv)\n",
    "\n",
    "        q = ops.softmax(q, -2)\n",
    "        k = ops.softmax(k, -1)\n",
    "\n",
    "        q = q * self.scale\n",
    "        v = v / (h * w)\n",
    "\n",
    "        # 'b h d n, b h e n -> b h d e'\n",
    "        context = ops.bmm(k, v.swapaxes(2, 3))\n",
    "        # 'b h d e, b h d n -> b h e n'\n",
    "        out = ops.bmm(context.swapaxes(2, 3), q)\n",
    "\n",
    "        out = out.reshape((b, -1, h, w))\n",
    "        return self.to_out(out)"
   ]
  },
  {
   "cell_type": "markdown",
   "metadata": {
    "pycharm": {
     "name": "#%% md\n"
    }
   },
   "source": [
    "### 组归一化\n",
    "\n",
    "DDPM作者将U-Net的卷积/注意层与群归一化（[Wu et al., 2018](https://arxiv.org/abs/1803.08494)）。下面，我们定义一个`PreNorm`类，将用于在注意层之前应用groupnorm。\n"
   ]
  },
  {
   "cell_type": "code",
   "execution_count": null,
   "metadata": {
    "pycharm": {
     "name": "#%%\n"
    }
   },
   "outputs": [],
   "source": [
    "class PreNorm(nn.Cell):\n",
    "    def __init__(self, dim, fn):\n",
    "        super().__init__()\n",
    "        self.fn = fn\n",
    "        self.norm = nn.GroupNorm(1, dim)\n",
    "\n",
    "    def construct(self, x):\n",
    "        x = self.norm(x)\n",
    "        return self.fn(x)"
   ]
  },
  {
   "cell_type": "markdown",
   "metadata": {
    "pycharm": {
     "name": "#%% md\n"
    }
   },
   "source": [
    "### 条件U-Net\n",
    "\n",
    "我们已经定义了所有的构建块（位置嵌入、ResNet/ConvNeXT块、Attention和组归一化），现在需要定义整个神经网络了。请记住，网络 $\\mathbf{\\epsilon}_\\theta(\\mathbf{x}_t, t)$ 的工作是接收一批噪声图像+噪声水平，并输出添加到输入中的噪声。\n",
    "\n",
    "更具体的：\n",
    "网络获取了一批`(batch_size, num_channels, height, width)`形状的噪声图像和一批`(batch_size, 1)`形状的噪音水平作为输入，并返回`(batch_size, num_channels, height, width)`形状的张量。\n",
    "\n",
    "网络构建过程如下：\n",
    "\n",
    "- 首先，将卷积层应用于噪声图像批上，并计算噪声水平的位置\n",
    "\n",
    "- 接下来，应用一系列下采样级。每个下采样阶段由2个ResNet/ConvNeXT块 + groupnorm + attention + 残差连接 + 一个下采样操作组成\n",
    "\n",
    "- 在网络的中间，再次应用ResNet或ConvNeXT块，并与attention交织\n",
    "\n",
    "- 接下来，应用一系列上采样级。每个上采样级由2个ResNet/ConvNeXT块+ groupnorm + attention + 残差连接 + 一个上采样操作组成\n",
    "\n",
    "- 最后，应用ResNet/ConvNeXT块，然后应用卷积层\n",
    "\n",
    "最终，神经网络将层堆叠起来，就像它们是乐高积木一样（但重要的是[了解它们是如何工作的](http://karpathy.github.io/2019/04/25/recipe/)）。"
   ]
  },
  {
   "cell_type": "code",
   "execution_count": null,
   "metadata": {
    "pycharm": {
     "name": "#%%\n"
    }
   },
   "outputs": [],
   "source": [
    "class Unet(nn.Cell):\n",
    "    def __init__(\n",
    "            self,\n",
    "            dim,\n",
    "            init_dim=None,\n",
    "            out_dim=None,\n",
    "            dim_mults=(1, 2, 4, 8),\n",
    "            channels=3,\n",
    "            with_time_emb=True,\n",
    "            convnext_mult=2,\n",
    "    ):\n",
    "        super().__init__()\n",
    "\n",
    "        self.channels = channels\n",
    "\n",
    "        init_dim = default(init_dim, dim // 3 * 2)\n",
    "        self.init_conv = nn.Conv2d(channels, init_dim, 7, padding=3, pad_mode=\"pad\", has_bias=True)\n",
    "\n",
    "        dims = [init_dim, *map(lambda m: dim * m, dim_mults)]\n",
    "        in_out = list(zip(dims[:-1], dims[1:]))\n",
    "\n",
    "        block_klass = partial(ConvNextBlock, mult=convnext_mult)\n",
    "\n",
    "        if with_time_emb:\n",
    "            time_dim = dim * 4\n",
    "            self.time_mlp = nn.SequentialCell(\n",
    "                SinusoidalPositionEmbeddings(dim),\n",
    "                nn.Dense(dim, time_dim),\n",
    "                nn.GELU(),\n",
    "                nn.Dense(time_dim, time_dim),\n",
    "            )\n",
    "        else:\n",
    "            time_dim = None\n",
    "            self.time_mlp = None\n",
    "\n",
    "        self.downs = nn.CellList([])\n",
    "        self.ups = nn.CellList([])\n",
    "        num_resolutions = len(in_out)\n",
    "\n",
    "        for ind, (dim_in, dim_out) in enumerate(in_out):\n",
    "            is_last = ind >= (num_resolutions - 1)\n",
    "\n",
    "            self.downs.append(\n",
    "                nn.CellList(\n",
    "                    [\n",
    "                        block_klass(dim_in, dim_out, time_emb_dim=time_dim),\n",
    "                        block_klass(dim_out, dim_out, time_emb_dim=time_dim),\n",
    "                        Residual(PreNorm(dim_out, LinearAttention(dim_out))),\n",
    "                        Downsample(dim_out) if not is_last else nn.Identity(),\n",
    "                    ]\n",
    "                )\n",
    "            )\n",
    "\n",
    "        mid_dim = dims[-1]\n",
    "        self.mid_block1 = block_klass(mid_dim, mid_dim, time_emb_dim=time_dim)\n",
    "        self.mid_attn = Residual(PreNorm(mid_dim, Attention(mid_dim)))\n",
    "        self.mid_block2 = block_klass(mid_dim, mid_dim, time_emb_dim=time_dim)\n",
    "\n",
    "        for ind, (dim_in, dim_out) in enumerate(reversed(in_out[1:])):\n",
    "            is_last = ind >= (num_resolutions - 1)\n",
    "\n",
    "            self.ups.append(\n",
    "                nn.CellList(\n",
    "                    [\n",
    "                        block_klass(dim_out * 2, dim_in, time_emb_dim=time_dim),\n",
    "                        block_klass(dim_in, dim_in, time_emb_dim=time_dim),\n",
    "                        Residual(PreNorm(dim_in, LinearAttention(dim_in))),\n",
    "                        Upsample(dim_in) if not is_last else nn.Identity(),\n",
    "                    ]\n",
    "                )\n",
    "            )\n",
    "\n",
    "        out_dim = default(out_dim, channels)\n",
    "        self.final_conv = nn.SequentialCell(\n",
    "            block_klass(dim, dim), nn.Conv2d(dim, out_dim, 1)\n",
    "        )\n",
    "\n",
    "    def construct(self, x, time):\n",
    "        x = self.init_conv(x)\n",
    "\n",
    "        t = self.time_mlp(time) if exists(self.time_mlp) else None\n",
    "\n",
    "        h = []\n",
    "\n",
    "        for block1, block2, attn, downsample in self.downs:\n",
    "            x = block1(x, t)\n",
    "            x = block2(x, t)\n",
    "            x = attn(x)\n",
    "            h.append(x)\n",
    "\n",
    "            x = downsample(x)\n",
    "\n",
    "        x = self.mid_block1(x, t)\n",
    "        x = self.mid_attn(x)\n",
    "        x = self.mid_block2(x, t)\n",
    "\n",
    "        len_h = len(h) - 1\n",
    "        for block1, block2, attn, upsample in self.ups:\n",
    "            x = ops.concat((x, h[len_h]), 1)\n",
    "            len_h -= 1\n",
    "            x = block1(x, t)\n",
    "            x = block2(x, t)\n",
    "            x = attn(x)\n",
    "\n",
    "            x = upsample(x)\n",
    "        return self.final_conv(x)"
   ]
  },
  {
   "cell_type": "markdown",
   "metadata": {
    "pycharm": {
     "name": "#%% md\n"
    }
   },
   "source": [
    "### 正向扩散\n",
    "\n",
    "我们已经知道正向扩散过程在多个时间步长$T$中，从实际分布逐渐向图像添加噪声，根据差异计划进行正向扩散。最初的DDPM作者采用了线性时间表：\n",
    "\n",
    "- 我们将正向过程方差设置为常数，从$\\beta_1 = 10^{−4}$线性增加到$\\beta_T = 0.02$。\n",
    "\n",
    "- 但是，它在（[Nichol et al., 2021](https://arxiv.org/abs/2102.09672)）中表明，当使用余弦调度时，可以获得更好的结果。\n",
    "\n",
    "下面，我们定义了$T$时间步的时间表。"
   ]
  },
  {
   "cell_type": "code",
   "execution_count": null,
   "metadata": {
    "pycharm": {
     "name": "#%%\n"
    }
   },
   "outputs": [],
   "source": [
    "def linear_beta_schedule(timesteps):\n",
    "    beta_start = 0.0001\n",
    "    beta_end = 0.02\n",
    "    return np.linspace(beta_start, beta_end, timesteps).astype(np.float32)"
   ]
  },
  {
   "cell_type": "markdown",
   "metadata": {
    "pycharm": {
     "name": "#%% md\n"
    }
   },
   "source": [
    "首先，让我们使用 $T=200$ 时间步长的线性计划，并定义我们需要的 $\\\\β_t$ 中的各种变量，例如方差 $\\bar{\\alpha}_t$ 的累积乘积。下面的每个变量都只是一维张量，存储从 $t$ 到 $T$ 的值。重要的是，我们还定义了`extract`函数，它将允许我们提取一批适当的 $t$ 索引。"
   ]
  },
  {
   "cell_type": "code",
   "execution_count": null,
   "metadata": {
    "pycharm": {
     "name": "#%%\n"
    }
   },
   "outputs": [],
   "source": [
    "# 扩散200步\n",
    "timesteps = 200\n",
    "\n",
    "# 定义 beta schedule\n",
    "betas = linear_beta_schedule(timesteps=timesteps)\n",
    "\n",
    "# 定义 alphas\n",
    "alphas = 1. - betas\n",
    "alphas_cumprod = np.cumprod(alphas, axis=0)\n",
    "alphas_cumprod_prev = np.pad(alphas_cumprod[:-1], (1, 0), constant_values=1)\n",
    "\n",
    "sqrt_recip_alphas = Tensor(np.sqrt(1. / alphas))\n",
    "sqrt_alphas_cumprod = Tensor(np.sqrt(alphas_cumprod))\n",
    "sqrt_one_minus_alphas_cumprod = Tensor(np.sqrt(1. - alphas_cumprod))\n",
    "\n",
    "# 计算 q(x_{t-1} | x_t, x_0)\n",
    "posterior_variance = betas * (1. - alphas_cumprod_prev) / (1. - alphas_cumprod)\n",
    "\n",
    "p2_loss_weight = (1 + alphas_cumprod / (1 - alphas_cumprod)) ** -0.\n",
    "p2_loss_weight = Tensor(p2_loss_weight)\n",
    "\n",
    "def extract(a, t, x_shape):\n",
    "    b = t.shape[0]\n",
    "    out = Tensor(a).gather(t, -1)\n",
    "    return out.reshape(b, *((1,) * (len(x_shape) - 1)))"
   ]
  },
  {
   "cell_type": "markdown",
   "metadata": {
    "pycharm": {
     "name": "#%% md\n"
    }
   },
   "source": [
    "我们将用猫图像说明如何在扩散过程的每个时间步骤中添加噪音。"
   ]
  },
  {
   "cell_type": "code",
   "execution_count": null,
   "metadata": {
    "pycharm": {
     "name": "#%%\n"
    }
   },
   "outputs": [],
   "source": [
    "# 下载猫猫图像\n",
    "url = 'https://mindspore-website.obs.cn-north-4.myhuaweicloud.com/notebook/datasets/image_cat.zip'\n",
    "path = download(url, './', kind=\"zip\", replace=True)"
   ]
  },
  {
   "cell_type": "code",
   "execution_count": null,
   "metadata": {
    "pycharm": {
     "name": "#%%\n"
    }
   },
   "outputs": [],
   "source": [
    "from PIL import Image\n",
    "\n",
    "image = Image.open('./image_cat/jpg/000000039769.jpg')\n",
    "base_width = 160\n",
    "image = image.resize((base_width, int(float(image.size[1]) * float(base_width / float(image.size[0])))))\n",
    "image.show()"
   ]
  },
  {
   "cell_type": "markdown",
   "metadata": {
    "pycharm": {
     "name": "#%% md\n"
    }
   },
   "source": [
    "噪声被添加到mindspore张量中，而不是Pillow图像。我们将首先定义图像转换，允许我们从PIL图像转换到mindspore张量（我们可以在其上添加噪声），反之亦然。\n",
    "\n",
    "这些转换相当简单：我们首先通过除以$255$来标准化图像（使它们在 $[0,1]$ 范围内），然后确保它们在 $[-1, 1]$ 范围内。DPPM论文中有介绍到：\n",
    "\n",
    "> 假设图像数据由 $\\{0, 1, ... , 255\\}$ 中的整数组成，线性缩放为 $[−1, 1]$ ， 这确保了神经网络反向过程在从标准正常先验 $p(\\mathbf{x}_T )$开始的一致缩放输入上运行。"
   ]
  },
  {
   "cell_type": "code",
   "execution_count": null,
   "metadata": {
    "pycharm": {
     "name": "#%%\n"
    }
   },
   "outputs": [],
   "source": [
    "from mindspore.dataset import ImageFolderDataset\n",
    "\n",
    "image_size = 128\n",
    "transforms = [\n",
    "    Resize(image_size, Inter.BILINEAR),\n",
    "    CenterCrop(image_size),\n",
    "    ToTensor(),\n",
    "    lambda t: (t * 2) - 1\n",
    "]\n",
    "\n",
    "\n",
    "path = './image_cat'\n",
    "dataset = ImageFolderDataset(dataset_dir=path, num_parallel_workers=cpu_count(),\n",
    "                             extensions=['.jpg', '.jpeg', '.png', '.tiff'],\n",
    "                             num_shards=1, shard_id=0, shuffle=False, decode=True)\n",
    "dataset = dataset.project('image')\n",
    "transforms.insert(1, RandomHorizontalFlip())\n",
    "dataset_1 = dataset.map(transforms, 'image')\n",
    "dataset_2 = dataset_1.batch(1, drop_remainder=True)\n",
    "x_start = next(dataset_2.create_tuple_iterator())[0]\n",
    "print(x_start.shape)"
   ]
  },
  {
   "cell_type": "markdown",
   "metadata": {
    "pycharm": {
     "name": "#%% md\n"
    }
   },
   "source": [
    "我们还定义了反向变换，它接收一个包含 $[-1, 1]$ 中的张量，并将它们转回 PIL 图像："
   ]
  },
  {
   "cell_type": "code",
   "execution_count": null,
   "metadata": {
    "pycharm": {
     "name": "#%%\n"
    }
   },
   "outputs": [],
   "source": [
    "import numpy as np\n",
    "\n",
    "reverse_transform = [\n",
    "    lambda t: (t + 1) / 2,\n",
    "    lambda t: ops.permute(t, (1, 2, 0)), # CHW to HWC\n",
    "    lambda t: t * 255.,\n",
    "    lambda t: t.asnumpy().astype(np.uint8),\n",
    "    ToPIL()\n",
    "]\n",
    "\n",
    "def compose(transform, x):\n",
    "    for d in transform:\n",
    "        x = d(x)\n",
    "    return x"
   ]
  },
  {
   "cell_type": "markdown",
   "metadata": {
    "pycharm": {
     "name": "#%% md\n"
    }
   },
   "source": [
    "让我们验证一下："
   ]
  },
  {
   "cell_type": "code",
   "execution_count": null,
   "metadata": {
    "pycharm": {
     "name": "#%%\n"
    }
   },
   "outputs": [],
   "source": [
    "reverse_image = compose(reverse_transform, x_start[0])\n",
    "reverse_image.show()"
   ]
  },
  {
   "cell_type": "markdown",
   "metadata": {
    "pycharm": {
     "name": "#%% md\n"
    }
   },
   "source": [
    "我们现在可以定义前向扩散过程，如本文所示："
   ]
  },
  {
   "cell_type": "code",
   "execution_count": null,
   "metadata": {
    "pycharm": {
     "name": "#%%\n"
    }
   },
   "outputs": [],
   "source": [
    "def q_sample(x_start, t, noise=None):\n",
    "    if noise is None:\n",
    "        noise = randn_like(x_start)\n",
    "    return (extract(sqrt_alphas_cumprod, t, x_start.shape) * x_start +\n",
    "            extract(sqrt_one_minus_alphas_cumprod, t, x_start.shape) * noise)"
   ]
  },
  {
   "cell_type": "markdown",
   "metadata": {
    "pycharm": {
     "name": "#%% md\n"
    }
   },
   "source": [
    "让我们在特定的时间步长上测试它："
   ]
  },
  {
   "cell_type": "code",
   "execution_count": null,
   "metadata": {
    "pycharm": {
     "name": "#%%\n"
    }
   },
   "outputs": [],
   "source": [
    "def get_noisy_image(x_start, t):\n",
    "    # 添加噪音\n",
    "    x_noisy = q_sample(x_start, t=t)\n",
    "\n",
    "    # 转换为 PIL 图像\n",
    "    noisy_image = compose(reverse_transform, x_noisy[0])\n",
    "\n",
    "    return noisy_image"
   ]
  },
  {
   "cell_type": "code",
   "execution_count": null,
   "metadata": {
    "pycharm": {
     "name": "#%%\n"
    }
   },
   "outputs": [],
   "source": [
    "# 设置 time step\n",
    "t = Tensor([40])\n",
    "noisy_image = get_noisy_image(x_start, t)\n",
    "print(noisy_image)\n",
    "noisy_image.show()"
   ]
  },
  {
   "cell_type": "markdown",
   "metadata": {
    "pycharm": {
     "name": "#%% md\n"
    }
   },
   "source": [
    "让我们为不同的时间步骤可视化此情况："
   ]
  },
  {
   "cell_type": "code",
   "execution_count": null,
   "metadata": {
    "pycharm": {
     "name": "#%%\n"
    }
   },
   "outputs": [],
   "source": [
    "import matplotlib.pyplot as plt\n",
    "\n",
    "def plot(imgs, with_orig=False, row_title=None, **imshow_kwargs):\n",
    "    if not isinstance(imgs[0], list):\n",
    "        imgs = [imgs]\n",
    "\n",
    "    num_rows = len(imgs)\n",
    "    num_cols = len(imgs[0]) + with_orig\n",
    "    _, axs = plt.subplots(figsize=(200, 200), nrows=num_rows, ncols=num_cols, squeeze=False)\n",
    "    for row_idx, row in enumerate(imgs):\n",
    "        row = [image] + row if with_orig else row\n",
    "        for col_idx, img in enumerate(row):\n",
    "            ax = axs[row_idx, col_idx]\n",
    "            ax.imshow(np.asarray(img), **imshow_kwargs)\n",
    "            ax.set(xticklabels=[], yticklabels=[], xticks=[], yticks=[])\n",
    "\n",
    "    if with_orig:\n",
    "        axs[0, 0].set(title='Original image')\n",
    "        axs[0, 0].title.set_size(8)\n",
    "    if row_title is not None:\n",
    "        for row_idx in range(num_rows):\n",
    "            axs[row_idx, 0].set(ylabel=row_title[row_idx])\n",
    "\n",
    "    plt.tight_layout()"
   ]
  },
  {
   "cell_type": "code",
   "execution_count": null,
   "metadata": {
    "pycharm": {
     "name": "#%%\n"
    }
   },
   "outputs": [],
   "source": [
    "plot([get_noisy_image(x_start, Tensor([t])) for t in [0, 50, 100, 150, 199]])"
   ]
  },
  {
   "cell_type": "markdown",
   "metadata": {
    "pycharm": {
     "name": "#%% md\n"
    }
   },
   "source": [
    "这意味着我们现在可以定义给定模型的损失函数，如下所示："
   ]
  },
  {
   "cell_type": "code",
   "execution_count": null,
   "metadata": {
    "pycharm": {
     "name": "#%%\n"
    }
   },
   "outputs": [],
   "source": [
    "def p_losses(unet_model, x_start, t, noise=None):\n",
    "    if noise is None:\n",
    "        noise = randn_like(x_start)\n",
    "    x_noisy = q_sample(x_start=x_start, t=t, noise=noise)\n",
    "    predicted_noise = unet_model(x_noisy, t)\n",
    "\n",
    "    loss = nn.SmoothL1Loss()(noise, predicted_noise)# todo\n",
    "    loss = loss.reshape(loss.shape[0], -1)\n",
    "    loss = loss * extract(p2_loss_weight, t, loss.shape)\n",
    "    return loss.mean()"
   ]
  },
  {
   "cell_type": "markdown",
   "metadata": {
    "pycharm": {
     "name": "#%% md\n"
    }
   },
   "source": [
    "`denoise_model`将是我们上面定义的U-Net。我们将在真实噪声和预测噪声之间使用Huber损失。"
   ]
  },
  {
   "cell_type": "markdown",
   "metadata": {
    "pycharm": {
     "name": "#%% md\n"
    }
   },
   "source": [
    "## 数据准备与处理\n",
    "\n",
    "在这里我们定义一个正则数据集。数据集可以来自简单的真实数据集的图像组成，如Fashion-MNIST、CIFAR-10或ImageNet，其中线性缩放为 $[−1, 1]$ 。\n",
    "\n",
    "每个图像的大小都会调整为相同的大小。有趣的是，图像也是随机水平翻转的。根据论文内容：我们在CIFAR10的训练中使用了随机水平翻转；我们尝试了有翻转和没有翻转的训练，并发现翻转可以稍微提高样本质量。\n",
    "\n",
    "本实验我们选用Fashion_MNIST数据集，我们使用download下载并解压Fashion_MNIST数据集到指定路径。此数据集由已经具有相同分辨率的图像组成，即28x28。"
   ]
  },
  {
   "cell_type": "code",
   "execution_count": null,
   "metadata": {
    "pycharm": {
     "name": "#%%\n"
    }
   },
   "outputs": [],
   "source": [
    "# 下载MNIST数据集\n",
    "url = 'https://mindspore-website.obs.cn-north-4.myhuaweicloud.com/notebook/datasets/dataset.zip'\n",
    "path = download(url, './', kind=\"zip\", replace=True)"
   ]
  },
  {
   "cell_type": "code",
   "execution_count": null,
   "metadata": {
    "pycharm": {
     "name": "#%%\n"
    }
   },
   "outputs": [],
   "source": [
    "from mindspore.dataset import FashionMnistDataset\n",
    "\n",
    "image_size = 28\n",
    "channels = 1\n",
    "batch_size = 16\n",
    "\n",
    "fashion_mnist_dataset_dir = \"./dataset\"\n",
    "dataset = FashionMnistDataset(dataset_dir=fashion_mnist_dataset_dir, usage=\"train\", num_parallel_workers=cpu_count(), shuffle=True, num_shards=1, shard_id=0)"
   ]
  },
  {
   "cell_type": "markdown",
   "metadata": {
    "pycharm": {
     "name": "#%% md\n"
    }
   },
   "source": [
    "接下来，我们定义一个transform操作，将在整个数据集上动态应用该操作。该操作应用一些基本的图像预处理：随机水平翻转、重新调整，最后使它们的值在 $[-1,1]$ 范围内。"
   ]
  },
  {
   "cell_type": "code",
   "execution_count": null,
   "metadata": {
    "pycharm": {
     "name": "#%%\n"
    }
   },
   "outputs": [],
   "source": [
    "transforms = [\n",
    "    RandomHorizontalFlip(),\n",
    "    ToTensor(),\n",
    "    lambda t: (t * 2) - 1\n",
    "]\n",
    "\n",
    "\n",
    "dataset = dataset.project('image')\n",
    "dataset = dataset.shuffle(64)\n",
    "dataset = dataset.map(transforms, 'image')\n",
    "dataset = dataset.batch(16, drop_remainder=True)"
   ]
  },
  {
   "cell_type": "code",
   "execution_count": null,
   "metadata": {
    "pycharm": {
     "name": "#%%\n"
    }
   },
   "outputs": [],
   "source": [
    "x = next(dataset.create_dict_iterator())\n",
    "print(x.keys())"
   ]
  },
  {
   "cell_type": "markdown",
   "metadata": {
    "pycharm": {
     "name": "#%% md\n"
    }
   },
   "source": [
    "### 采样\n",
    "\n",
    "由于我们将在训练期间从模型中采样（以便跟踪进度），我们定义了下面的代码。采样在本文中总结为算法2：\n",
    "\n",
    "![Image-5](pic/diffusion_5.png)\n",
    "\n",
    "从扩散模型生成新图像是通过反转扩散过程来实现的：我们从$T$开始，我们从高斯分布中采样纯噪声，然后使用我们的神经网络逐渐去噪（使用它所学习的条件概率），直到我们最终在时间步$t = 0$结束。如上图所示，我们可以通过使用我们的噪声预测器插入平均值的重新参数化，导出一个降噪程度较低的图像\n",
    "$\\mathbf{x}_{t-1 }$。请注意，方差是提前知道的。\n",
    "\n",
    "理想情况下，我们最终会得到一个看起来像是来自真实数据分布的图像。\n",
    "\n",
    "下面的代码实现了这一点。"
   ]
  },
  {
   "cell_type": "code",
   "execution_count": null,
   "metadata": {
    "pycharm": {
     "name": "#%%\n"
    }
   },
   "outputs": [],
   "source": [
    "def p_sample(model, x, t, t_index):\n",
    "    betas_t = extract(betas, t, x.shape)\n",
    "    sqrt_one_minus_alphas_cumprod_t = extract(\n",
    "        sqrt_one_minus_alphas_cumprod, t, x.shape\n",
    "    )\n",
    "    sqrt_recip_alphas_t = extract(sqrt_recip_alphas, t, x.shape)\n",
    "    model_mean = sqrt_recip_alphas_t * (x - betas_t * model(x, t) / sqrt_one_minus_alphas_cumprod_t)\n",
    "\n",
    "    if t_index == 0:\n",
    "        return model_mean\n",
    "    posterior_variance_t = extract(posterior_variance, t, x.shape)\n",
    "    noise = randn_like(x)\n",
    "    return model_mean + ops.sqrt(posterior_variance_t) * noise\n",
    "\n",
    "def p_sample_loop(model, shape):\n",
    "    b = shape[0]\n",
    "    # 从纯噪声开始\n",
    "    img = randn(shape, dtype=None)\n",
    "    imgs = []\n",
    "\n",
    "    for i in tqdm(reversed(range(0, timesteps)), desc='sampling loop time step', total=timesteps):\n",
    "        img = p_sample(model, img, ms.numpy.full((b,), i, dtype=mstype.int32), i)\n",
    "        imgs.append(img.asnumpy())\n",
    "    return imgs\n",
    "\n",
    "def sample(model, image_size, batch_size=16, channels=3):\n",
    "    return p_sample_loop(model, shape=(batch_size, channels, image_size, image_size))"
   ]
  },
  {
   "cell_type": "markdown",
   "metadata": {
    "pycharm": {
     "name": "#%% md\n"
    }
   },
   "source": [
    "请注意，上面的代码是原始实现的简化版本。"
   ]
  },
  {
   "cell_type": "markdown",
   "metadata": {
    "pycharm": {
     "name": "#%% md\n"
    }
   },
   "source": [
    "## 训练过程"
   ]
  },
  {
   "cell_type": "markdown",
   "metadata": {
    "pycharm": {
     "name": "#%% md\n"
    }
   },
   "source": [
    "下面，我们开始训练吧！"
   ]
  },
  {
   "cell_type": "code",
   "execution_count": null,
   "metadata": {
    "pycharm": {
     "name": "#%%\n"
    }
   },
   "outputs": [],
   "source": [
    "# 定义动态学习率\n",
    "lr = nn.cosine_decay_lr(min_lr=1e-7, max_lr=1e-4, total_step=10*3750, step_per_epoch=3750, decay_epoch=10)\n",
    "\n",
    "# 定义 Unet模型\n",
    "unet_model = Unet(\n",
    "    dim=image_size,\n",
    "    channels=channels,\n",
    "    dim_mults=(1, 2, 4,)\n",
    ")\n",
    "\n",
    "name_list = []\n",
    "for (name, par) in list(unet_model.parameters_and_names()):\n",
    "    name_list.append(name)\n",
    "i = 0\n",
    "for item in list(unet_model.trainable_params()):\n",
    "    item.name = name_list[i]\n",
    "    i += 1\n",
    "\n",
    "# 定义优化器\n",
    "optimizer = nn.Adam(unet_model.trainable_params(), learning_rate=lr)\n",
    "loss_scaler = DynamicLossScaler(65536, 2, 1000)\n",
    "\n",
    "# 定义前向过程\n",
    "def forward_fn(data, t, noise=None):\n",
    "    loss = p_losses(unet_model, data, t, noise)\n",
    "    return loss\n",
    "\n",
    "# 计算梯度\n",
    "grad_fn = ms.value_and_grad(forward_fn, None, optimizer.parameters, has_aux=False)\n",
    "\n",
    "# 梯度更新\n",
    "def train_step(data, t, noise):\n",
    "    loss, grads = grad_fn(data, t, noise)\n",
    "    optimizer(grads)\n",
    "    return loss"
   ]
  },
  {
   "cell_type": "code",
   "execution_count": null,
   "metadata": {
    "pycharm": {
     "name": "#%%\n"
    }
   },
   "outputs": [],
   "source": [
    "import time\n",
    "\n",
    "# 由于时间原因，epochs设置为1，可根据需求进行调整\n",
    "epochs = 1\n",
    "\n",
    "for epoch in range(epochs):\n",
    "    begin_time = time.time()\n",
    "    for step, batch in enumerate(dataset.create_tuple_iterator()):\n",
    "        unet_model.set_train()\n",
    "        batch_size = batch[0].shape[0]\n",
    "        t = randint(0, timesteps, (batch_size,), dtype=ms.int32)\n",
    "        noise = randn_like(batch[0])\n",
    "        loss = train_step(batch[0], t, noise)\n",
    "\n",
    "        if step % 500 == 0:\n",
    "            print(\" epoch: \", epoch, \" step: \", step, \" Loss: \", loss)\n",
    "    end_time = time.time()\n",
    "    times = end_time - begin_time\n",
    "    print(\"training time:\", times, \"s\")\n",
    "    # 展示随机采样效果\n",
    "    unet_model.set_train(False)\n",
    "    samples = sample(unet_model, image_size=image_size, batch_size=64, channels=channels)\n",
    "    plt.imshow(samples[-1][5].reshape(image_size, image_size, channels), cmap=\"gray\")\n",
    "print(\"Training Success!\")"
   ]
  },
  {
   "cell_type": "markdown",
   "metadata": {
    "pycharm": {
     "name": "#%% md\n"
    }
   },
   "source": [
    "## 推理过程（从模型中采样）\n",
    "\n",
    "要从模型中采样，我们可以只使用上面定义的采样函数："
   ]
  },
  {
   "cell_type": "code",
   "execution_count": null,
   "metadata": {
    "pycharm": {
     "name": "#%%\n"
    }
   },
   "outputs": [],
   "source": [
    "# 采样64个图片\n",
    "unet_model.set_train(False)\n",
    "samples = sample(unet_model, image_size=image_size, batch_size=64, channels=channels)"
   ]
  },
  {
   "cell_type": "code",
   "execution_count": null,
   "metadata": {
    "pycharm": {
     "name": "#%%\n"
    }
   },
   "outputs": [],
   "source": [
    "# 展示一个随机效果\n",
    "random_index = 5\n",
    "plt.imshow(samples[-1][random_index].reshape(image_size, image_size, channels), cmap=\"gray\")"
   ]
  },
  {
   "cell_type": "markdown",
   "metadata": {
    "pycharm": {
     "name": "#%% md\n"
    }
   },
   "source": [
    "可以看到这个模型能产生一件衣服！\n",
    "\n",
    "请注意，我们训练的数据集分辨率相当低（28x28）。\n",
    "\n",
    "我们还可以创建去噪过程的gif："
   ]
  },
  {
   "cell_type": "code",
   "execution_count": null,
   "metadata": {
    "pycharm": {
     "name": "#%%\n"
    }
   },
   "outputs": [],
   "source": [
    "import matplotlib.animation as animation\n",
    "\n",
    "random_index = 53\n",
    "\n",
    "fig = plt.figure()\n",
    "ims = []\n",
    "for i in range(timesteps):\n",
    "    im = plt.imshow(samples[i][random_index].reshape(image_size, image_size, channels), cmap=\"gray\", animated=True)\n",
    "    ims.append([im])\n",
    "\n",
    "animate = animation.ArtistAnimation(fig, ims, interval=50, blit=True, repeat_delay=100)\n",
    "animate.save('diffusion.gif')\n",
    "plt.show()"
   ]
  },
  {
   "cell_type": "markdown",
   "metadata": {
    "pycharm": {
     "name": "#%% md\n"
    }
   },
   "source": [
    "## 总结\n",
    "\n",
    "请注意，DDPM论文表明扩散模型是（非）条件图像有希望生成的方向。自那以后，diffusion得到了（极大的）改进，最明显的是文本条件图像生成。下面，我们列出了一些重要的（但远非详尽无遗的）后续工作：\n",
    "\n",
    "- 改进的去噪扩散概率模型([Nichol et al., 2021](https://arxiv.org/abs/2102.09672))：发现学习条件分布的方差（除平均值外）有助于提高性能\n",
    "\n",
    "- 用于高保真图像生成的级联扩散模型([[Ho et al., 2021](https://arxiv.org/abs/2106.15282))：引入级联扩散，它包括多个扩散模型的流水线，这些模型生成分辨率提高的图像，用于高保真图像合成\n",
    "\n",
    "- 扩散模型在图像合成上击败了GANs([Dhariwal et al., 2021](https://arxiv.org/abs/2105.05233))：表明扩散模型通过改进U-Net体系结构以及引入分类器指导，可以获得优于当前最先进的生成模型的图像样本质量\n",
    "\n",
    "- 无分类器扩散指南([[Ho et al., 2021](https://openreview.net/pdf?id=qw8AKxfYbI))：表明通过使用单个神经网络联合训练条件和无条件扩散模型，不需要分类器来指导扩散模型\n",
    "\n",
    "- 具有CLIP Latents (DALL-E 2) 的分层文本条件图像生成 ([Ramesh et al., 2022](https://cdn.openai.com/papers/dall-e-2.pdf))：在将文本标题转换为CLIP图像嵌入之前使用，然后扩散模型将其解码为图像\n",
    "\n",
    "- 具有深度语言理解的真实文本到图像扩散模型（ImageGen）([Saharia et al., 2022](https://arxiv.org/abs/2205.11487))：表明将大型预训练语言模型（例如T5）与级联扩散结合起来，对于文本到图像的合成很有效\n",
    "\n",
    "请注意，此列表仅包括在撰写本文，即2022年6月7日之前的重要作品。\n",
    "\n",
    "目前，扩散模型的主要（也许唯一）缺点是它们需要多次正向传递来生成图像（对于像GAN这样的生成模型来说，情况并非如此）。然而，有[正在进行中的研究](https://arxiv.org/abs/2204.13902)表明只需要10个去噪步骤就能实现高保真生成。"
   ]
  },
  {
   "cell_type": "markdown",
   "metadata": {},
   "source": [
    "## 参考\n",
    "\n",
    "1. [The Annotated Diffusion Model](https://huggingface.co/blog/annotated-diffusion)\n",
    "\n",
    "2. [由浅入深了解Diffusion Model](https://zhuanlan.zhihu.com/p/525106459)"
   ]
  }
 ],
 "metadata": {
  "kernelspec": {
   "display_name": "Conda-python3",
   "language": "python",
   "name": "conda-python3"
  },
  "language_info": {
   "codemirror_mode": {
    "name": "ipython",
    "version": 3
   },
   "file_extension": ".py",
   "mimetype": "text/x-python",
   "name": "python",
   "nbconvert_exporter": "python",
   "pygments_lexer": "ipython3",
   "version": "3.6.4"
  }
 },
 "nbformat": 4,
 "nbformat_minor": 4
}
